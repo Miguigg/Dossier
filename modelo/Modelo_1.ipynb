{
 "cells": [
  {
   "cell_type": "code",
   "execution_count": 109,
   "id": "11cba596-f72c-4dbf-8b50-b37b886ded55",
   "metadata": {},
   "outputs": [],
   "source": [
    "import numpy as np #creating numpy arrays\n",
    "import pandas as pd #creating dataframes and storing data in dataframes\n",
    "import re #for searching for text in a document\n",
    "from nltk.corpus import stopwords  #removes words that don't add value to the article\n",
    "from nltk.stem.porter import PorterStemmer\n",
    "from sklearn.feature_extraction.text import TfidfVectorizer #converts texts into numbers\n",
    "from sklearn.model_selection import train_test_split #splits data into training and testing\n",
    "from sklearn.linear_model import LogisticRegression\n",
    "from sklearn.metrics import accuracy_score"
   ]
  },
  {
   "cell_type": "code",
   "execution_count": 110,
   "id": "a36da99c-13ba-4da3-85ff-ff44476af5d7",
   "metadata": {},
   "outputs": [
    {
     "name": "stderr",
     "output_type": "stream",
     "text": [
      "[nltk_data] Downloading package stopwords to\n",
      "[nltk_data]     C:\\Users\\migue\\AppData\\Roaming\\nltk_data...\n",
      "[nltk_data]   Package stopwords is already up-to-date!\n"
     ]
    },
    {
     "data": {
      "text/plain": [
       "True"
      ]
     },
     "execution_count": 110,
     "metadata": {},
     "output_type": "execute_result"
    }
   ],
   "source": [
    "import nltk\n",
    "nltk.download('stopwords')"
   ]
  },
  {
   "cell_type": "code",
   "execution_count": 173,
   "id": "7dadc387-56f6-4dc1-9a15-3101e61cedb7",
   "metadata": {},
   "outputs": [
    {
     "data": {
      "text/html": [
       "<div>\n",
       "<style scoped>\n",
       "    .dataframe tbody tr th:only-of-type {\n",
       "        vertical-align: middle;\n",
       "    }\n",
       "\n",
       "    .dataframe tbody tr th {\n",
       "        vertical-align: top;\n",
       "    }\n",
       "\n",
       "    .dataframe thead th {\n",
       "        text-align: right;\n",
       "    }\n",
       "</style>\n",
       "<table border=\"1\" class=\"dataframe\">\n",
       "  <thead>\n",
       "    <tr style=\"text-align: right;\">\n",
       "      <th></th>\n",
       "      <th>Id</th>\n",
       "      <th>label</th>\n",
       "      <th>Topic</th>\n",
       "      <th>Source</th>\n",
       "      <th>Headline</th>\n",
       "      <th>Text</th>\n",
       "      <th>Link</th>\n",
       "    </tr>\n",
       "  </thead>\n",
       "  <tbody>\n",
       "    <tr>\n",
       "      <th>1244</th>\n",
       "      <td>568</td>\n",
       "      <td>TRUE</td>\n",
       "      <td>Covid-19</td>\n",
       "      <td>El Financiero</td>\n",
       "      <td>Encuentran nueva variante de COVID en México: ...</td>\n",
       "      <td>El Instituto de Diagnóstico y Referencia Epide...</td>\n",
       "      <td>https://www.elfinanciero.com.mx/salud/encuentr...</td>\n",
       "    </tr>\n",
       "    <tr>\n",
       "      <th>1245</th>\n",
       "      <td>569</td>\n",
       "      <td>FALSE</td>\n",
       "      <td>Sociedad</td>\n",
       "      <td>diariogol</td>\n",
       "      <td>El móvil de más de 60.000 euros de la princesa...</td>\n",
       "      <td>La hija del rey Felipe y de la reina Letizia y...</td>\n",
       "      <td>https://www.diariogol.com/gossip/el-movil-de-m...</td>\n",
       "    </tr>\n",
       "    <tr>\n",
       "      <th>1246</th>\n",
       "      <td>570</td>\n",
       "      <td>FALSE</td>\n",
       "      <td>Política</td>\n",
       "      <td>AFPFactual</td>\n",
       "      <td>NaN</td>\n",
       "      <td>Evidentemente, Barak Obama ha sido arrestado e...</td>\n",
       "      <td>Perma | Obama, Biden y la directora de la CIA,...</td>\n",
       "    </tr>\n",
       "    <tr>\n",
       "      <th>1247</th>\n",
       "      <td>571</td>\n",
       "      <td>TRUE</td>\n",
       "      <td>Covid-19</td>\n",
       "      <td>Redacción Médica</td>\n",
       "      <td>Covid: las vacunas puestas en España no alcanz...</td>\n",
       "      <td>El Ministerio de Sanidad ha actualizado los da...</td>\n",
       "      <td>https://www.redaccionmedica.com/secciones/sani...</td>\n",
       "    </tr>\n",
       "    <tr>\n",
       "      <th>1248</th>\n",
       "      <td>572</td>\n",
       "      <td>FALSE</td>\n",
       "      <td>Covid-19</td>\n",
       "      <td>El Sol de la Laguna</td>\n",
       "      <td>En 2014 una revista ya alertaba sobre el coron...</td>\n",
       "      <td>Fue en el mes de febrero de 2014 cuando la rev...</td>\n",
       "      <td>https://www.Noticiadelsoldelalaguna.com.mx/dob...</td>\n",
       "    </tr>\n",
       "  </tbody>\n",
       "</table>\n",
       "</div>"
      ],
      "text/plain": [
       "       Id  label     Topic               Source  \\\n",
       "1244  568   TRUE  Covid-19        El Financiero   \n",
       "1245  569  FALSE  Sociedad            diariogol   \n",
       "1246  570  FALSE  Política           AFPFactual   \n",
       "1247  571   TRUE  Covid-19     Redacción Médica   \n",
       "1248  572  FALSE  Covid-19  El Sol de la Laguna   \n",
       "\n",
       "                                               Headline  \\\n",
       "1244  Encuentran nueva variante de COVID en México: ...   \n",
       "1245  El móvil de más de 60.000 euros de la princesa...   \n",
       "1246                                                NaN   \n",
       "1247  Covid: las vacunas puestas en España no alcanz...   \n",
       "1248  En 2014 una revista ya alertaba sobre el coron...   \n",
       "\n",
       "                                                   Text  \\\n",
       "1244  El Instituto de Diagnóstico y Referencia Epide...   \n",
       "1245  La hija del rey Felipe y de la reina Letizia y...   \n",
       "1246  Evidentemente, Barak Obama ha sido arrestado e...   \n",
       "1247  El Ministerio de Sanidad ha actualizado los da...   \n",
       "1248  Fue en el mes de febrero de 2014 cuando la rev...   \n",
       "\n",
       "                                                   Link  \n",
       "1244  https://www.elfinanciero.com.mx/salud/encuentr...  \n",
       "1245  https://www.diariogol.com/gossip/el-movil-de-m...  \n",
       "1246  Perma | Obama, Biden y la directora de la CIA,...  \n",
       "1247  https://www.redaccionmedica.com/secciones/sani...  \n",
       "1248  https://www.Noticiadelsoldelalaguna.com.mx/dob...  "
      ]
     },
     "execution_count": 173,
     "metadata": {},
     "output_type": "execute_result"
    }
   ],
   "source": [
    "new_dataset_spanish = pd.read_csv('/Users/migue/Desktop/TFM_Git/Dossier/modelo/datasets/Espanhol/dataset.csv')\n",
    "\n",
    "new_dataset_spanish.tail()"
   ]
  },
  {
   "cell_type": "code",
   "execution_count": 174,
   "id": "32af508f-9fe7-45a2-8693-cd93e18d71f3",
   "metadata": {},
   "outputs": [],
   "source": [
    "new_dataset_spanish.drop('Link', axis=1, inplace=True)\n",
    "new_dataset_spanish.drop('Source', axis=1, inplace=True)\n",
    "new_dataset_spanish.drop('Topic', axis=1, inplace=True)\n",
    "new_dataset_spanish.drop('Headline', axis=1, inplace=True)\n",
    "new_dataset_spanish.drop('Id', axis=1, inplace=True)\n",
    "\n",
    "new_dataset_spanish.insert(0, 'Id', range(1, 1 + len(new_dataset_spanish)))"
   ]
  },
  {
   "cell_type": "code",
   "execution_count": 175,
   "id": "3a6d9650-ad7d-404c-92fe-7b66122ed39d",
   "metadata": {},
   "outputs": [
    {
     "data": {
      "text/plain": [
       "1249"
      ]
     },
     "execution_count": 175,
     "metadata": {},
     "output_type": "execute_result"
    }
   ],
   "source": [
    "new_dataset_spanish.head()\n",
    "new_dataset_spanish.shape[0]"
   ]
  },
  {
   "cell_type": "code",
   "execution_count": 183,
   "id": "16ade3b2-6184-43f5-9f26-e20c4973dc35",
   "metadata": {},
   "outputs": [
    {
     "data": {
      "text/html": [
       "<div>\n",
       "<style scoped>\n",
       "    .dataframe tbody tr th:only-of-type {\n",
       "        vertical-align: middle;\n",
       "    }\n",
       "\n",
       "    .dataframe tbody tr th {\n",
       "        vertical-align: top;\n",
       "    }\n",
       "\n",
       "    .dataframe thead th {\n",
       "        text-align: right;\n",
       "    }\n",
       "</style>\n",
       "<table border=\"1\" class=\"dataframe\">\n",
       "  <thead>\n",
       "    <tr style=\"text-align: right;\">\n",
       "      <th></th>\n",
       "      <th>Id</th>\n",
       "      <th>label</th>\n",
       "      <th>Text</th>\n",
       "    </tr>\n",
       "  </thead>\n",
       "  <tbody>\n",
       "    <tr>\n",
       "      <th>1244</th>\n",
       "      <td>1245</td>\n",
       "      <td>1</td>\n",
       "      <td>El Instituto de Diagnóstico y Referencia Epide...</td>\n",
       "    </tr>\n",
       "    <tr>\n",
       "      <th>1245</th>\n",
       "      <td>1246</td>\n",
       "      <td>0</td>\n",
       "      <td>La hija del rey Felipe y de la reina Letizia y...</td>\n",
       "    </tr>\n",
       "    <tr>\n",
       "      <th>1246</th>\n",
       "      <td>1247</td>\n",
       "      <td>0</td>\n",
       "      <td>Evidentemente, Barak Obama ha sido arrestado e...</td>\n",
       "    </tr>\n",
       "    <tr>\n",
       "      <th>1247</th>\n",
       "      <td>1248</td>\n",
       "      <td>1</td>\n",
       "      <td>El Ministerio de Sanidad ha actualizado los da...</td>\n",
       "    </tr>\n",
       "    <tr>\n",
       "      <th>1248</th>\n",
       "      <td>1249</td>\n",
       "      <td>0</td>\n",
       "      <td>Fue en el mes de febrero de 2014 cuando la rev...</td>\n",
       "    </tr>\n",
       "  </tbody>\n",
       "</table>\n",
       "</div>"
      ],
      "text/plain": [
       "        Id label                                               Text\n",
       "1244  1245     1  El Instituto de Diagnóstico y Referencia Epide...\n",
       "1245  1246     0  La hija del rey Felipe y de la reina Letizia y...\n",
       "1246  1247     0  Evidentemente, Barak Obama ha sido arrestado e...\n",
       "1247  1248     1  El Ministerio de Sanidad ha actualizado los da...\n",
       "1248  1249     0  Fue en el mes de febrero de 2014 cuando la rev..."
      ]
     },
     "execution_count": 183,
     "metadata": {},
     "output_type": "execute_result"
    }
   ],
   "source": [
    "news_dataset_unico = new_dataset_spanish.replace({'True': 1, 'Fake': 0})\n",
    "news_dataset_unico = new_dataset_spanish.replace({'TRUE': 1, 'FALSE': 0})\n",
    "news_dataset_unico.tail()"
   ]
  },
  {
   "cell_type": "code",
   "execution_count": 178,
   "id": "70755f92-5178-444c-b272-aee26589ce04",
   "metadata": {},
   "outputs": [
    {
     "data": {
      "text/plain": [
       "1249"
      ]
     },
     "execution_count": 178,
     "metadata": {},
     "output_type": "execute_result"
    }
   ],
   "source": [
    "news_dataset_unico.shape[0]"
   ]
  },
  {
   "cell_type": "code",
   "execution_count": 179,
   "id": "416c7f9a-e258-4edf-972a-f9785a7d9c52",
   "metadata": {},
   "outputs": [],
   "source": [
    "port_stem = PorterStemmer()\n",
    "\n",
    "def stemming(content):\n",
    "    stemmed_content = re.sub('[^a-zA-Z]',' ',content)\n",
    "    stemmed_content = stemmed_content.lower()\n",
    "    stemmed_content = stemmed_content.split()\n",
    "    stemmed_content = [port_stem.stem(word) for word in stemmed_content if not word in stopwords.words('spanish')]\n",
    "    stemmed_content = ' '.join(stemmed_content)\n",
    "    return stemmed_content"
   ]
  },
  {
   "cell_type": "code",
   "execution_count": 181,
   "id": "adbbbbef-bd63-4d4b-8715-7c5349468eab",
   "metadata": {},
   "outputs": [],
   "source": [
    "news_dataset_unico['Text'] = news_dataset_unico['Text'].apply(stemming)"
   ]
  },
  {
   "cell_type": "code",
   "execution_count": 182,
   "id": "de7392a5-ce52-406d-8fee-f8e45fa0beb1",
   "metadata": {},
   "outputs": [
    {
     "name": "stdout",
     "output_type": "stream",
     "text": [
      "        Id                                               Text\n",
      "0        1  rae incluir palabra ladi diccionario idioma es...\n",
      "1        2  palabra haiga aceptada rae real academia lengu...\n",
      "2        3  yordi rosado escribir dise ar nuevo libro text...\n",
      "3        4  unam capacitar maestro aprobar prueba pisa m x...\n",
      "4        5  alerta pretenden aprobar libro escolar conteni...\n",
      "...    ...                                                ...\n",
      "1244  1245  instituto diagn stico referencia epidemiol gic...\n",
      "1245  1246  hija rey felip reina letizia lujo arrasa rede ...\n",
      "1246  1247  evidentement barak obama sido arrestado hawai ...\n",
      "1247  1248  ministerio sanidad actualizado dato evoluci n ...\n",
      "1248  1249  me febrero revista interesant dedicada divulga...\n",
      "\n",
      "[1249 rows x 2 columns]\n",
      "0           0\n",
      "1           0\n",
      "2           0\n",
      "3           1\n",
      "4           0\n",
      "        ...  \n",
      "1244     TRUE\n",
      "1245    FALSE\n",
      "1246    FALSE\n",
      "1247     TRUE\n",
      "1248    FALSE\n",
      "Name: label, Length: 1249, dtype: object\n"
     ]
    }
   ],
   "source": [
    "X = news_dataset_unico.drop(columns='label', axis=1)\n",
    "Y = news_dataset_unico['label']\n",
    "\n",
    "print(X)\n",
    "print(Y)"
   ]
  },
  {
   "cell_type": "code",
   "execution_count": 16,
   "id": "e2790620-dcac-43c8-9804-c1970c74305b",
   "metadata": {},
   "outputs": [],
   "source": [
    "# converting the textual data to numerical data\n",
    "vectorizer = TfidfVectorizer()\n",
    "vectorizer.fit(X)\n",
    "\n",
    "X = vectorizer.transform(X)"
   ]
  }
 ],
 "metadata": {
  "kernelspec": {
   "display_name": "tfm-dossier",
   "language": "python",
   "name": "tfm-dossier"
  },
  "language_info": {
   "codemirror_mode": {
    "name": "ipython",
    "version": 3
   },
   "file_extension": ".py",
   "mimetype": "text/x-python",
   "name": "python",
   "nbconvert_exporter": "python",
   "pygments_lexer": "ipython3",
   "version": "3.11.7"
  }
 },
 "nbformat": 4,
 "nbformat_minor": 5
}
