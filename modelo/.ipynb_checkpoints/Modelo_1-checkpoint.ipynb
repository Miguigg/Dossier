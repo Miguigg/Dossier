{
 "cells": [
  {
   "cell_type": "code",
   "execution_count": 2,
   "id": "11cba596-f72c-4dbf-8b50-b37b886ded55",
   "metadata": {},
   "outputs": [],
   "source": [
    "import numpy as np \n",
    "import pandas as pd \n",
    "import re\n",
    "from nltk.corpus import stopwords \n",
    "from nltk.stem.porter import PorterStemmer\n",
    "from sklearn.feature_extraction.text import TfidfVectorizer\n",
    "from sklearn.model_selection import train_test_split\n",
    "from sklearn.linear_model import LogisticRegression\n",
    "from sklearn.metrics import accuracy_score\n",
    "from imblearn.over_sampling import SMOTE\n",
    "\n",
    "from sklearn.model_selection import StratifiedKFold\n",
    "from sklearn.model_selection import GridSearchCV\n",
    "from sklearn.metrics import confusion_matrix, ConfusionMatrixDisplay,classification_report\n",
    "import matplotlib.pyplot as plt\n",
    "import warnings"
   ]
  },
  {
   "cell_type": "code",
   "execution_count": 3,
   "id": "a36da99c-13ba-4da3-85ff-ff44476af5d7",
   "metadata": {},
   "outputs": [
    {
     "name": "stderr",
     "output_type": "stream",
     "text": [
      "[nltk_data] Downloading package stopwords to\n",
      "[nltk_data]     C:\\Users\\migue\\AppData\\Roaming\\nltk_data...\n",
      "[nltk_data]   Package stopwords is already up-to-date!\n"
     ]
    },
    {
     "data": {
      "text/plain": [
       "True"
      ]
     },
     "execution_count": 3,
     "metadata": {},
     "output_type": "execute_result"
    }
   ],
   "source": [
    "import nltk\n",
    "nltk.download('stopwords')"
   ]
  },
  {
   "cell_type": "code",
   "execution_count": 4,
   "id": "7dadc387-56f6-4dc1-9a15-3101e61cedb7",
   "metadata": {},
   "outputs": [
    {
     "data": {
      "text/html": [
       "<div>\n",
       "<style scoped>\n",
       "    .dataframe tbody tr th:only-of-type {\n",
       "        vertical-align: middle;\n",
       "    }\n",
       "\n",
       "    .dataframe tbody tr th {\n",
       "        vertical-align: top;\n",
       "    }\n",
       "\n",
       "    .dataframe thead th {\n",
       "        text-align: right;\n",
       "    }\n",
       "</style>\n",
       "<table border=\"1\" class=\"dataframe\">\n",
       "  <thead>\n",
       "    <tr style=\"text-align: right;\">\n",
       "      <th></th>\n",
       "      <th>class</th>\n",
       "      <th>Text</th>\n",
       "    </tr>\n",
       "  </thead>\n",
       "  <tbody>\n",
       "    <tr>\n",
       "      <th>1995</th>\n",
       "      <td>True</td>\n",
       "      <td>El Consejo de Gobierno ha dado su visto bueno...</td>\n",
       "    </tr>\n",
       "    <tr>\n",
       "      <th>1996</th>\n",
       "      <td>True</td>\n",
       "      <td>Investigadores valencianos han desarrollado u...</td>\n",
       "    </tr>\n",
       "    <tr>\n",
       "      <th>1997</th>\n",
       "      <td>True</td>\n",
       "      <td>Los arrestados actuaban en coches y en establ...</td>\n",
       "    </tr>\n",
       "    <tr>\n",
       "      <th>1998</th>\n",
       "      <td>True</td>\n",
       "      <td>El Rey ha encargado este miércoles a Pedro Sá...</td>\n",
       "    </tr>\n",
       "    <tr>\n",
       "      <th>1999</th>\n",
       "      <td>True</td>\n",
       "      <td>Las pruebas realizadas en el Centro Nacional ...</td>\n",
       "    </tr>\n",
       "  </tbody>\n",
       "</table>\n",
       "</div>"
      ],
      "text/plain": [
       "      class                                               Text\n",
       "1995   True   El Consejo de Gobierno ha dado su visto bueno...\n",
       "1996   True   Investigadores valencianos han desarrollado u...\n",
       "1997   True   Los arrestados actuaban en coches y en establ...\n",
       "1998   True   El Rey ha encargado este miércoles a Pedro Sá...\n",
       "1999   True   Las pruebas realizadas en el Centro Nacional ..."
      ]
     },
     "execution_count": 4,
     "metadata": {},
     "output_type": "execute_result"
    }
   ],
   "source": [
    "new_dataset_spanish = pd.read_csv('/Users/migue/Desktop/TFM_Git/Dossier/modelo/datasets/Espanhol/dataset_noticias.csv')\n",
    "\n",
    "new_dataset_spanish.tail()"
   ]
  },
  {
   "cell_type": "code",
   "execution_count": 5,
   "id": "de638510-b795-4f29-bac0-cd8b71a29335",
   "metadata": {},
   "outputs": [
    {
     "data": {
      "text/plain": [
       "class    0\n",
       "Text     0\n",
       "dtype: int64"
      ]
     },
     "execution_count": 5,
     "metadata": {},
     "output_type": "execute_result"
    }
   ],
   "source": [
    "new_dataset_spanish.isnull().sum()"
   ]
  },
  {
   "cell_type": "code",
   "execution_count": 6,
   "id": "8a3a335a-30cf-4478-b7b2-126506094ae2",
   "metadata": {},
   "outputs": [],
   "source": [
    "new_dataset_spanish= new_dataset_spanish.fillna(' ')"
   ]
  },
  {
   "cell_type": "code",
   "execution_count": 9,
   "id": "32af508f-9fe7-45a2-8693-cd93e18d71f3",
   "metadata": {},
   "outputs": [],
   "source": [
    "#new_dataset_spanish.drop('Link', axis=1, inplace=True)\n",
    "#new_dataset_spanish.drop('Source', axis=1, inplace=True)\n",
    "#new_dataset_spanish.drop('Topic', axis=1, inplace=True)\n",
    "#new_dataset_spanish.drop('Headline', axis=1, inplace=True)\n",
    "#new_dataset_spanish.drop('Id', axis=1, inplace=True)\n",
    "\n",
    "new_dataset_spanish = new_dataset_spanish.rename(columns={'class': 'label'})"
   ]
  },
  {
   "cell_type": "code",
   "execution_count": 23,
   "id": "3a6d9650-ad7d-404c-92fe-7b66122ed39d",
   "metadata": {},
   "outputs": [
    {
     "data": {
      "text/plain": [
       "2000"
      ]
     },
     "execution_count": 23,
     "metadata": {},
     "output_type": "execute_result"
    }
   ],
   "source": [
    "new_dataset_spanish.head()\n",
    "new_dataset_spanish.shape[0]"
   ]
  },
  {
   "cell_type": "code",
   "execution_count": 36,
   "id": "16ade3b2-6184-43f5-9f26-e20c4973dc35",
   "metadata": {},
   "outputs": [],
   "source": [
    "new_dataset_spanish = new_dataset_spanish.replace({'True': 1, 'Fake': 0})"
   ]
  },
  {
   "cell_type": "code",
   "execution_count": 37,
   "id": "416c7f9a-e258-4edf-972a-f9785a7d9c52",
   "metadata": {},
   "outputs": [],
   "source": [
    "port_stem = PorterStemmer()\n",
    "\n",
    "def stemming(content):\n",
    "    stemmed_content = re.sub('[^a-zA-Z]',' ',content)\n",
    "    stemmed_content = stemmed_content.lower()\n",
    "    stemmed_content = stemmed_content.split()\n",
    "    stemmed_content = [port_stem.stem(word) for word in stemmed_content if not word in stopwords.words('spanish')]\n",
    "    stemmed_content = ' '.join(stemmed_content)\n",
    "    return stemmed_content"
   ]
  },
  {
   "cell_type": "code",
   "execution_count": 38,
   "id": "adbbbbef-bd63-4d4b-8715-7c5349468eab",
   "metadata": {},
   "outputs": [],
   "source": [
    "new_dataset_spanish['Text'] = new_dataset_spanish['Text'].apply(stemming)"
   ]
  },
  {
   "cell_type": "code",
   "execution_count": 39,
   "id": "a3f60b0e-7f30-456b-ae5a-e3ee519e67b2",
   "metadata": {},
   "outputs": [
    {
     "data": {
      "text/plain": [
       "(2000, 2)"
      ]
     },
     "execution_count": 39,
     "metadata": {},
     "output_type": "execute_result"
    }
   ],
   "source": [
    "new_dataset_spanish.shape"
   ]
  },
  {
   "cell_type": "code",
   "execution_count": 40,
   "id": "de7392a5-ce52-406d-8fee-f8e45fa0beb1",
   "metadata": {},
   "outputs": [],
   "source": [
    "X = new_dataset_spanish['Text']\n",
    "Y = new_dataset_spanish['label']"
   ]
  },
  {
   "cell_type": "code",
   "execution_count": 41,
   "id": "575957dc-905a-4068-8b69-27928a9ec741",
   "metadata": {},
   "outputs": [
    {
     "name": "stdout",
     "output_type": "stream",
     "text": [
      "(2000,)\n",
      "(2000,)\n"
     ]
    }
   ],
   "source": [
    "print(X.shape)\n",
    "print(Y.shape)"
   ]
  },
  {
   "cell_type": "code",
   "execution_count": 42,
   "id": "712a89e0-dda4-4607-853d-6dd0c3a62f39",
   "metadata": {},
   "outputs": [
    {
     "name": "stdout",
     "output_type": "stream",
     "text": [
      "0       1\n",
      "1       1\n",
      "2       1\n",
      "3       1\n",
      "4       1\n",
      "       ..\n",
      "1995    1\n",
      "1996    1\n",
      "1997    1\n",
      "1998    1\n",
      "1999    1\n",
      "Name: label, Length: 2000, dtype: int32\n"
     ]
    }
   ],
   "source": [
    "print(Y)"
   ]
  },
  {
   "cell_type": "code",
   "execution_count": 43,
   "id": "e2790620-dcac-43c8-9804-c1970c74305b",
   "metadata": {},
   "outputs": [],
   "source": [
    "# converting the textual data to numerical data\n",
    "vectorizer = TfidfVectorizer()\n",
    "vectorizer.fit(X)\n",
    "\n",
    "X = vectorizer.transform(X)"
   ]
  },
  {
   "cell_type": "code",
   "execution_count": 44,
   "id": "54e37aba-b255-4d2c-9408-488d2160bab9",
   "metadata": {},
   "outputs": [],
   "source": [
    "x_train, x_test, y_train, y_test = train_test_split(X, Y,test_size = 0.2, random_state=0)"
   ]
  },
  {
   "cell_type": "code",
   "execution_count": 45,
   "id": "9049ad0c-d28d-4c58-81c0-5b44ec59f255",
   "metadata": {},
   "outputs": [
    {
     "name": "stdout",
     "output_type": "stream",
     "text": [
      "Fitting 5 folds for each of 378 candidates, totalling 1890 fits\n",
      "{'C': 100, 'class_weight': 'balanced', 'multi_class': 'auto', 'penalty': 'l2', 'solver': 'lbfgs'}\n",
      "0.7635063777301614\n"
     ]
    },
    {
     "data": {
      "image/png": "[encoded data removed]",
      "text/plain": [
       "<Figure size 640x480 with 2 Axes>"
      ]
     },
     "metadata": {},
     "output_type": "display_data"
    },
    {
     "name": "stdout",
     "output_type": "stream",
     "text": [
      "              precision    recall  f1-score   support\n",
      "\n",
      "           0       0.77      0.79      0.78       199\n",
      "           1       0.78      0.76      0.77       201\n",
      "\n",
      "    accuracy                           0.78       400\n",
      "   macro avg       0.78      0.78      0.77       400\n",
      "weighted avg       0.78      0.78      0.77       400\n",
      "\n"
     ]
    }
   ],
   "source": [
    "warnings.filterwarnings(\"ignore\")   \n",
    "ss = StratifiedKFold(n_splits=5, shuffle=True,  random_state=1)\n",
    "param_grid = {'penalty': ['l2','l1','elasticnet'],\n",
    "             'solver':['sag','lbfgs'],\n",
    "              'class_weight':['dict','balanced'],\n",
    "              'C': [0.001, 0.01, 0.1, 1, 10, 100, 1000],\n",
    "              'solver':['lbfgs', 'liblinear', 'newton-cg'],\n",
    "              'multi_class':['auto', 'ovr', 'multinomial']\n",
    "             }\n",
    "grid = GridSearchCV(LogisticRegression(random_state=0), param_grid, cv=ss,scoring='f1', return_train_score=False,verbose=1)\n",
    "grid.fit(x_train, y_train)\n",
    "print(grid.best_params_)\n",
    "print(grid.best_score_)\n",
    "\n",
    "logReg_score = grid.best_score_\n",
    "logReg_params = grid.best_params_\n",
    "\n",
    "grid_predictions = grid.predict(x_test) \n",
    "\n",
    "cm = confusion_matrix(y_test, grid_predictions, labels=grid.classes_)\n",
    "disp = ConfusionMatrixDisplay(confusion_matrix=cm,\n",
    "                               display_labels=grid.classes_)\n",
    "disp.plot()\n",
    "plt.show()\n",
    " \n",
    "# print classification report \n",
    "print(classification_report(y_test, grid_predictions)) "
   ]
  }
 ],
 "metadata": {
  "kernelspec": {
   "display_name": "tfm-dossier",
   "language": "python",
   "name": "tfm-dossier"
  },
  "language_info": {
   "codemirror_mode": {
    "name": "ipython",
    "version": 3
   },
   "file_extension": ".py",
   "mimetype": "text/x-python",
   "name": "python",
   "nbconvert_exporter": "python",
   "pygments_lexer": "ipython3",
   "version": "3.11.7"
  }
 },
 "nbformat": 4,
 "nbformat_minor": 5
}
